{
  "cells": [
    {
      "cell_type": "markdown",
      "id": "de6a4c7c-6c89-4257-bc5e-b5b6a6d5b308",
      "metadata": {},
      "source": [
        "# So, is the climate changing?\n",
        "\n",
        "First things first – make sure to load the climate `DataFrame` you\n",
        "stored in the previous notebooks using Jupyter cell magic:"
      ]
    },
    {
      "cell_type": "code",
      "execution_count": 1,
      "id": "8262b450",
      "metadata": {},
      "outputs": [],
      "source": [
        "# Load all stored variables\n",
        "%store -r"
      ]
    },
    {
      "cell_type": "markdown",
      "id": "5de5565c-d612-4f51-981b-8e2d80a410e2",
      "metadata": {},
      "source": [
        "## Quantify how fast the climate is changing with a trend line\n",
        "\n",
        "Global climate change causes different effects in different places when\n",
        "we zoom in to a local area. However, you probably noticed when you\n",
        "looked at mean annual temperatures over time that they were rising. We\n",
        "can use a technique called **Linear Ordinary Least Squares (OLS)\n",
        "Regression** to determine how quickly temperatures are rising on\n",
        "average.\n",
        "\n",
        "Before we get started, it’s important to consider that OLS regression is\n",
        "not always the right technique, because it makes some important\n",
        "assumptions about our data:\n",
        "\n",
        "### Random error  \n",
        "Variation in temperature can be caused by many things beyond global\n",
        "climate change. For example, temperatures often vary with patterns of\n",
        "ocean surface temperatures (*teleconnections*), the most famous of which\n",
        "are El Niño and La Niña. By using a linear OLS regression, we’re\n",
        "assuming that all the variation in temperature except for climate change\n",
        "is random. \n",
        "\n",
        "### Normally distributed error\n",
        "If you have taken a statistics class, you probably learned a lot about\n",
        "the normal, or Gaussian distribution. For right now, what you need to\n",
        "know is that OLS regression is useful for identifying trends in average\n",
        "temperature, but wouldn’t be appropriate for looking at trends in daily\n",
        "precipitation (because most days have zero precipitation), or at maximum\n",
        "or minimum annual temperatures (because these are extreme values, and\n",
        "the normal distribution tends to underestimate the likelihood of large\n",
        "events). \n",
        "\n",
        "### Linearity\n",
        "We’re assuming that temperatures are increasing or decreasing at a\n",
        "constant rate over time. We wouldn’t be able to look at rates that\n",
        "change over time. For example, many locations in the Arctic remained the\n",
        "same temperature for much longer than the rest of the world, because ice\n",
        "melt was absorbing all the extra heat. Linear OLS regression wouldn’t be\n",
        "able to identify when the temperature rise began on its own.\n",
        "\n",
        "### Stationarity\n",
        "\n",
        "We’re assuming that variation in temperature caused by things *other*\n",
        "than global climate change (e.g. the random error) behaves the same over\n",
        "time. For example, the linear OLS regression can’t take increased\n",
        "variability from year to year into account, which is a common effect of\n",
        "climate change. We often see “global weirding”, or more extreme head\n",
        "*and* cold, in addition to overall increases. You can observe this most\n",
        "easily by looking at your daily data again. Does it seem to be fanning\n",
        "in or out over time?\n",
        "\n",
        "\n",
        "\n",
        "## YOUR TASK: Is linear OLS regression right for your data?\n",
        "\n",
        "It’s pretty rare to encounter a perfect statistical model where all the\n",
        "assumptions are met, but you want to be on the lookout for serious\n",
        "discrepancies, especially when making predictions. For example,\n",
        "[ignoring assumptions about Gaussian error arguably led to the 2008\n",
        "financial crash](https://www.wired.com/2009/02/wp-quant/).\n",
        "\n",
        "1. Take a look at your data. In the cell below, write a few\n",
        "    sentences about ways your data does and does not meet the linear OLS\n",
        "    regression assumptions."
      ]
    },
    {
      "cell_type": "markdown",
      "id": "0cded352",
      "metadata": {},
      "source": []
    },
    {
      "cell_type": "markdown",
      "id": "d83a7ac6",
      "metadata": {},
      "source": [
        ">  The Boulder Climate Data meets a few of the OLS assumptions, such as the random error (temperature changes are random year over year) and normal distributed error (the average temperature should stay the same year over year).  It does not meet the best fit for linearity, as some recent studies have shown climate change causing warming to speed up in the recent decade, or stationarity, as there has been increased variability over the years due to climate change"
      ]
    },
    {
      "cell_type": "markdown",
      "id": "3937a655",
      "metadata": {},
      "source": [
        "> **Your task:**\n",
        ">\n",
        "> The following cell contains package imports that you will need to\n",
        "> calculate and plot an OLS Linear trend line. Make sure to run the cell\n",
        "> before moving on, and if you have any additional packages you would\n",
        "> like to use, add them here later on."
      ]
    },
    {
      "cell_type": "code",
      "execution_count": 2,
      "id": "209b3e4f",
      "metadata": {},
      "outputs": [],
      "source": [
        "# Advanced options on matplotlib/seaborn/pandas plots\n",
        "import matplotlib.pyplot as plt\n",
        "# Common statistical plots for tabular data\n",
        "import seaborn as sns\n",
        "# Fit an OLS linear regression\n",
        "from sklearn.linear_model import LinearRegression\n",
        "import numpy as np #import number py "
      ]
    },
    {
      "cell_type": "markdown",
      "id": "82ee8183-a772-4727-89a8-fcd86832c09a",
      "metadata": {},
      "source": [
        "> **Your task: Regression**\n",
        ">\n",
        "> 1.  To get sample code, ask ChatGPT how to fit a linear model to your\n",
        ">     data. If you’re new to using large language modesl, go ahead and\n",
        ">     check out [our\n",
        ">     query](https://chatgpt.com/share/649b897b-9075-457e-8e12-308f795312a1)\n",
        "> 2.  Copy code that uses the `scikit-learn` package to perform a OLS\n",
        ">     linear regression to the code cell below.\n",
        "> 3.  Check out your previous plot. Does it make sense to include all\n",
        ">     the data when calculating a trend line? Be sure to select out data\n",
        ">     that meets the OLS assumptions.\n",
        "\n",
        "> **Note**\n",
        ">\n",
        "> We know that some computers, networks, and countries block LLM (large\n",
        "> language model) sites, and that LLMs can sometimes perpetuate\n",
        "> oppressive or offensive language and ideas. However, LLMs are\n",
        "> increasingly standard tools for programming – [according to\n",
        "> GitHub](https://github.com/features/copilot) many developers code 55%\n",
        "> faster with LLM assistance. We also see in our classes that LLMs give\n",
        "> students the ability to work on complex real-world problems earlier\n",
        "> on. We feel it’s worth the trade-off, and at this point we would be\n",
        "> doing you a disservice professionally to teach you to code without\n",
        "> LLMs. If you can’t access them, don’t worry – we’ll present a variety\n",
        "> of options for finding example code. For example, you can also search\n",
        "> for an example on a site like\n",
        "> [StackOverflow](https://stackoverflow.com/) (this is how we all\n",
        "> learned to code, and with the right question it’s a fantastic resource\n",
        "> for any coder to get access to up-to-date information from world\n",
        "> experts quickly). You can also use our solutions as a starting point."
      ]
    },
    {
      "cell_type": "code",
      "execution_count": 3,
      "id": "96b31338",
      "metadata": {},
      "outputs": [
        {
          "name": "stdout",
          "output_type": "stream",
          "text": [
            "Slope: 0.032561151427149396\n",
            "Intercept: -9.359007348239942\n"
          ]
        }
      ],
      "source": [
        "# Fit an OLS Linear Regression to the data\n",
        "\n",
        "# Clean up values in the data, causing issues\n",
        "ann_Boul_climate_df_clean= (\n",
        "    ann_Boul_climate_df\n",
        "    .loc['1893':]    #Selects rows from 1890 on\n",
        "    .dropna(subset=['TOBS']) #drops all Null values from dataset, in this case TOBS\n",
        ")\n",
        "\n",
        "#Reset the default index, time (as in year)\n",
        "#ann_Boul_climate_df_clean=ann_Boul_climate_df_clean.reset_index()\n",
        "\n",
        "#Reshape 'DATE' Column to be a 2D array for scikit-learn \n",
        "date=ann_Boul_climate_df_clean.index.year.values.reshape(-1,1) #grab only the years from the index, reshape so it fits into the model \n",
        "temperature=ann_Boul_climate_df_clean['TOBS'].values\n",
        "\n",
        "#Create and fit the linear regression model \n",
        "\n",
        "boulder_model= LinearRegression()\n",
        "boulder_model.fit(date,temperature)\n",
        "\n",
        "#Get slope and intercept \n",
        "slope = boulder_model.coef_[0]\n",
        "intercept = boulder_model.intercept_\n",
        "\n",
        "#Results \n",
        "print(f\"Slope: {slope}\")\n",
        "print(f\"Intercept: {intercept}\")\n"
      ]
    },
    {
      "cell_type": "markdown",
      "id": "919fb21a",
      "metadata": {},
      "source": [
        "Model Summary"
      ]
    },
    {
      "cell_type": "code",
      "execution_count": 4,
      "id": "05be0471",
      "metadata": {},
      "outputs": [
        {
          "name": "stdout",
          "output_type": "stream",
          "text": [
            "                            OLS Regression Results                            \n",
            "==============================================================================\n",
            "Dep. Variable:                      y   R-squared:                       0.083\n",
            "Model:                            OLS   Adj. R-squared:                  0.076\n",
            "Method:                 Least Squares   F-statistic:                     10.75\n",
            "Date:                Tue, 24 Sep 2024   Prob (F-statistic):            0.00137\n",
            "Time:                        03:54:48   Log-Likelihood:                -594.25\n",
            "No. Observations:                 120   AIC:                             1193.\n",
            "Df Residuals:                     118   BIC:                             1198.\n",
            "Df Model:                           1                                         \n",
            "Covariance Type:            nonrobust                                         \n",
            "==============================================================================\n",
            "                 coef    std err          t      P>|t|      [0.025      0.975]\n",
            "------------------------------------------------------------------------------\n",
            "const       1822.7219     42.773     42.614      0.000    1738.019    1907.425\n",
            "x1             2.5640      0.782      3.279      0.001       1.015       4.113\n",
            "==============================================================================\n",
            "Omnibus:                       40.182   Durbin-Watson:                   0.113\n",
            "Prob(Omnibus):                  0.000   Jarque-Bera (JB):                7.141\n",
            "Skew:                          -0.095   Prob(JB):                       0.0281\n",
            "Kurtosis:                       1.820   Cond. No.                         743.\n",
            "==============================================================================\n",
            "\n",
            "Notes:\n",
            "[1] Standard Errors assume that the covariance matrix of the errors is correctly specified.\n"
          ]
        }
      ],
      "source": [
        "#model summary \n",
        "import statsmodels.api as sm \n",
        "\n",
        "#Add a constant term to the independent variable (for intercept)\n",
        "temperature=sm.add_constant(temperature)\n",
        "#Fit OLS model \n",
        "model= sm.OLS(date,temperature).fit()\n",
        "#print model summary \n",
        "\n",
        "print(model.summary())"
      ]
    },
    {
      "cell_type": "markdown",
      "id": "e95f7f83-54fd-403a-bfba-b99a9b2a3b67",
      "metadata": {},
      "source": [
        "## Plot your trend line\n",
        "\n",
        "Trend lines are often used to help your audience understand and process\n",
        "a time-series plot. In this case, we’ve chosed mean temperature values\n",
        "rather than extremes, so we think OLS is an appropriate model to use to\n",
        "show a trend.\n",
        "\n",
        "> **Is it ok to plot a trend line even if OLS isn’t an appropriate\n",
        "> model?**\n",
        ">\n",
        "> This is a tricky issue. When it comes to a trend line, choosing a\n",
        "> model that is technically more appropriate may require much more\n",
        "> complex code without resulting in a noticeably different trend line.\n",
        ">\n",
        "> We think an OLS trend line is an ok visual tool to indicate the\n",
        "> approximate direction and size of a trend. If you are showing standard\n",
        "> error, making predictions or inferences based on your model, or\n",
        "> calculating probabilities (p-values) based on your model, or making\n",
        "> statements about the statistical significance of a trend, we’d suggest\n",
        "> reconsidering your choice of model.\n",
        "\n",
        "#  Your task: Regression\n",
        "\n",
        "1.  Add values for x (year) and y (temperature) to plot a regression\n",
        "    plot. You will have to select out the year from the index values,\n",
        "    just like you probably did when fitting your linear model above!\n",
        "2.  Label the axes of your plot with the `title`, `xlabel`, and `ylabel`\n",
        "    parameters of `ax.set()`. This function takes your plot and changes the settings. You can see how to add the degree symbol in the example\n",
        "    below. Make sure your labels match what you’re plotting! :::"
      ]
    },
    {
      "cell_type": "code",
      "execution_count": 5,
      "id": "acb4c467",
      "metadata": {},
      "outputs": [
        {
          "data": {
            "image/png": "[encoded data removed]",
            "text/plain": [
              "<Figure size 640x480 with 1 Axes>"
            ]
          },
          "metadata": {},
          "output_type": "display_data"
        }
      ],
      "source": [
        "#Reset the default index, time (as in year)\n",
        "#ann_Boul_climate_df=ann_Boul_climate_df.reset_index()\n",
        "\n",
        "# Plot annual average temperature data with a trend line\n",
        "ax = sns.regplot(\n",
        "    x=ann_Boul_climate_df_clean.index.year,\n",
        "    y=ann_Boul_climate_df_clean.TOBS,\n",
        "    )\n",
        "# Set plot labels\n",
        "ax.set(\n",
        "    title='Boulder Annual Average Temperature Since 1893',\n",
        "    xlabel='Year',\n",
        "    ylabel='Temperature ($^\\circ$F)'\n",
        ")\n",
        "# Display the plot without extra text\n",
        "plt.show()"
      ]
    },
    {
      "cell_type": "markdown",
      "id": "732f5dae-1317-4081-9378-f755a038fff8",
      "metadata": {},
      "source": [
        "<link rel=\"stylesheet\" type=\"text/css\" href=\"./assets/styles.css\"><div class=\"callout callout-style-default callout-titled callout-task\"><div class=\"callout-header\"><div class=\"callout-icon-container\"><i class=\"callout-icon\"></i></div><div class=\"callout-title-container flex-fill\">Try It: Interpret the trend</div></div><div class=\"callout-body-container callout-body\"><ol type=\"1\">\n",
        "<li><p>Create a new Markdown cell below this one.</p></li>\n",
        "<li><p>Write a plot headline. Your headline should\n",
        "<strong>interpret</strong> your plot, unlike a caption which neutrally\n",
        "describes the image.</p></li>\n",
        "<li><p>Is the climate changing? How much? Report the slope of your trend\n",
        "line.</p></li>\n",
        "</ol></div></div>"
      ]
    },
    {
      "cell_type": "markdown",
      "id": "6f2f14fb",
      "metadata": {},
      "source": [
        "# Annual average temperatures in Boulder, Colorado have been rising since record keeping began in 1893, as a consequence of global climate change\n",
        "\n",
        "### From 1893 to 2023, temperature data recorded in Boulder, CO has shown an increase of annual average temperature over the last 130 years of 3.3%"
      ]
    }
  ],
  "metadata": {
    "kernelspec": {
      "display_name": "Python 3 (ipykernel)",
      "language": "python",
      "name": "python3"
    },
    "language_info": {
      "codemirror_mode": {
        "name": "ipython",
        "version": 3
      },
      "file_extension": ".py",
      "mimetype": "text/x-python",
      "name": "python",
      "nbconvert_exporter": "python",
      "pygments_lexer": "ipython3",
      "version": "3.10.11"
    }
  },
  "nbformat": 4,
  "nbformat_minor": 5
}

{
  "cells": [
    {
      "cell_type": "markdown",
      "id": "f089c993-1269-4ac7-923b-aded0dab019c",
      "metadata": {},
      "source": [
        "# Climate coding challenge, Part 6\n",
        "\n",
        "Getting your own data\n",
        "\n",
        "## There are more Earth Observation data online than any one person could ever look at\n",
        "\n",
        "[NASA’s Earth Observing System Data and Information System (EOSDIS)\n",
        "alone manages over 9PB of\n",
        "data](https://www.earthdata.nasa.gov/learn/articles/getting-petabytes-people-how-eosdis-facilitates-earth-observing-data-discovery-and-use).\n",
        "1 PB is roughly 100 times the entire Library of Congress (a good\n",
        "approximation of all the books available in the US). It’s all available\n",
        "to **you** once you learn how to download what you want.\n",
        "\n",
        "Here we’re using the NOAA National Centers for Environmental Information\n",
        "(NCEI) [Access Data\n",
        "Service](https://www.ncei.noaa.gov/support/access-data-service-api-user-documentation)\n",
        "application progamming interface (API) to request data from their web\n",
        "servers. We will be using data collected as part of the Global\n",
        "Historical Climatology Network daily (GHCNd) from their [Climate Data\n",
        "Online library](https://www.ncdc.noaa.gov/cdo-web/datasets) program at\n",
        "NOAA.\n",
        "\n",
        "For this example we’re requesting [daily summary data in\n",
        "**Boulder, CO** (station ID\n",
        "**USC00050848**)](https://www.ncdc.noaa.gov/cdo-web/datasets/GHCND/stations/GHCND:USC00050848/detail)."
      ]
    },
    {
      "cell_type": "markdown",
      "id": "e6fae95c-05db-4ec5-b8f6-5677291e5178",
      "metadata": {},
      "source": [
        "> ** Your task:**\n",
        ">\n",
        "> 1.  Research the [**Global Historical Climatology Network -\n",
        ">     Daily**](https://www.ncei.noaa.gov/metadata/geoportal/rest/metadata/item/gov.noaa.ncdc:C00861/html)\n",
        ">     data source.\n",
        "> 2.  In the cell below, write a 2-3 sentence description of the data\n",
        ">     source.\n",
        "> 3.  Include a citation of the data (**HINT:** See the ‘Data Citation’\n",
        ">     tab on the GHCNd overview page).\n",
        ">\n",
        "> Your description should include:\n",
        ">\n",
        "> -   who takes the data\n",
        "> -   where the data were taken\n",
        "> -   what the maximum temperature units are\n",
        "> -   how the data are collected"
      ]
    },
    {
      "cell_type": "markdown",
      "id": "4ca2cf0e-ed33-46f8-b1fa-fb19a97dc40d",
      "metadata": {},
      "source": [
        "**YOUR DATA DESCRIPTION AND CITATION HERE** 🛎️"
      ]
    },
    {
      "cell_type": "markdown",
      "metadata": {},
      "source": [
        "- The Global Historical Climatology Network - Daily has 30 different data sources showing daily climate observation from around the globe, with a total of 90,000 of land based stations worldwide (two thirds only report precipitation).  Other measurements include daily max and min temperature, snowfall, and snow depth, among others.  The dataset is routinely reconstructed about weekly, with QC check applied to the whole data set.  Units are reported in standard (English) units in pdf formats, and either metric or standard (English) units on text outputs (csv or txt)\n",
        "\n",
        "> Menne, Matthew J., Imke Durre, Bryant Korzeniewski, Shelley McNeill, Kristy Thomas, Xungang Yin, Steven Anthony, Ron Ray, Russell S. Vose, Byron E.Gleason, and Tamara G. Houston (2012): Global Historical Climatology Network - Daily (GHCN-Daily), Version 3. [indicate subset used]. NOAA National Climatic Data Center. doi:10.7289/V5D21VHZ [Accessed:-Sept-2024 22:25 MST]"
      ]
    },
    {
      "cell_type": "markdown",
      "id": "65cbd277-08f2-46ea-9bec-d714881c4713",
      "metadata": {},
      "source": [
        "## Access NCEI GHCNd Data from the internet using its API 🖥️ 📡 🖥️\n",
        "\n",
        "The cell below contains the URL for the data you will use in this part\n",
        "of the notebook. We created this URL by generating what is called an\n",
        "**API endpoint** using the NCEI [API\n",
        "documentation](https://www.ncei.noaa.gov/support/access-data-service-api-user-documentation).\n",
        "\n",
        "> **Note**\n",
        ">\n",
        "> An **application programming interface** (API) is a way for two or\n",
        "> more computer programs or components to communicate with each other.\n",
        "> It is a type of software interface, offering a service to other pieces\n",
        "> of software ([Wikipedia](https://en.wikipedia.org/wiki/API)).\n",
        "\n",
        "First things first – you will need to import the `pandas` library to\n",
        "access NCEI data through its URL:"
      ]
    },
    {
      "cell_type": "code",
      "execution_count": 1,
      "id": "0080a1a4",
      "metadata": {},
      "outputs": [],
      "source": [
        "# Import required packages\n",
        "import pandas as pd"
      ]
    },
    {
      "cell_type": "markdown",
      "id": "c2936f0b-2081-41be-8939-d063f9538a5d",
      "metadata": {},
      "source": [
        "> **Your task:**\n",
        ">\n",
        "> 1.  Pick an expressive variable name for the URL.\n",
        "> 2.  Reformat the URL so that it adheres to the [79-character PEP-8\n",
        ">     line\n",
        ">     limit](https://peps.python.org/pep-0008/#maximum-line-length). You\n",
        ">     should see two vertical lines in each cell - don’t let your code\n",
        ">     go past the second line.\n",
        "> 3.  At the end of the cell where you define your url variable, **call\n",
        ">     your variable (type out its name)** so it can be tested."
      ]
    },
    {
      "cell_type": "code",
      "execution_count": 11,
      "id": "dbf3db2e",
      "metadata": {},
      "outputs": [
        {
          "data": {
            "text/plain": [
              "'https://www.ncei.noaa.gov/access/services/data/v1?dataset=daily-summaries&dataTypes=TOBS,PRCP&stations=USC00050848&startDate=1893-10-01&endDate=2023-09-30&units=standard'"
            ]
          },
          "execution_count": 11,
          "metadata": {},
          "output_type": "execute_result"
        }
      ],
      "source": [
        "boulder_GHCN_data = (\n",
        "    'https://www.ncei.noaa.gov/access/services/data/v1'\n",
        "    '?dataset=daily-summaries'\n",
        "    '&dataTypes=TOBS,PRCP'\n",
        "    '&stations=USC00050848'\n",
        "    '&startDate=1893-10-01'\n",
        "    '&endDate=2023-09-30'\n",
        "    '&units=standard')\n",
        "boulder_GHCN_data"
      ]
    },
    {
      "cell_type": "markdown",
      "id": "7fe1870c-40ef-4d1b-89d6-050bba5a8ec2",
      "metadata": {},
      "source": [
        "------------------------------------------------------------------------\n",
        "\n",
        "## **Download and get started working with NCEI data**\n",
        "\n",
        "Just like you did with the practice data, go ahead and use pandas to\n",
        "import data from your API URL into Python. If you didn’t do it already,\n",
        "you should import the pandas library **at the top of this notebook** so\n",
        "that others who want to use your code can find it easily."
      ]
    },
    {
      "cell_type": "code",
      "execution_count": 12,
      "id": "959deead",
      "metadata": {},
      "outputs": [
        {
          "data": {
            "text/html": [
              "<div>\n",
              "<style scoped>\n",
              "    .dataframe tbody tr th:only-of-type {\n",
              "        vertical-align: middle;\n",
              "    }\n",
              "\n",
              "    .dataframe tbody tr th {\n",
              "        vertical-align: top;\n",
              "    }\n",
              "\n",
              "    .dataframe thead th {\n",
              "        text-align: right;\n",
              "    }\n",
              "</style>\n",
              "<table border=\"1\" class=\"dataframe\">\n",
              "  <thead>\n",
              "    <tr style=\"text-align: right;\">\n",
              "      <th></th>\n",
              "      <th>STATION</th>\n",
              "      <th>DATE</th>\n",
              "      <th>PRCP</th>\n",
              "      <th>TOBS</th>\n",
              "    </tr>\n",
              "  </thead>\n",
              "  <tbody>\n",
              "    <tr>\n",
              "      <th>0</th>\n",
              "      <td>USC00050848</td>\n",
              "      <td>1893-10-01</td>\n",
              "      <td>0.94</td>\n",
              "      <td>NaN</td>\n",
              "    </tr>\n",
              "    <tr>\n",
              "      <th>1</th>\n",
              "      <td>USC00050848</td>\n",
              "      <td>1893-10-02</td>\n",
              "      <td>0.00</td>\n",
              "      <td>NaN</td>\n",
              "    </tr>\n",
              "    <tr>\n",
              "      <th>2</th>\n",
              "      <td>USC00050848</td>\n",
              "      <td>1893-10-03</td>\n",
              "      <td>0.00</td>\n",
              "      <td>NaN</td>\n",
              "    </tr>\n",
              "    <tr>\n",
              "      <th>3</th>\n",
              "      <td>USC00050848</td>\n",
              "      <td>1893-10-04</td>\n",
              "      <td>0.04</td>\n",
              "      <td>NaN</td>\n",
              "    </tr>\n",
              "    <tr>\n",
              "      <th>4</th>\n",
              "      <td>USC00050848</td>\n",
              "      <td>1893-10-05</td>\n",
              "      <td>0.00</td>\n",
              "      <td>NaN</td>\n",
              "    </tr>\n",
              "    <tr>\n",
              "      <th>...</th>\n",
              "      <td>...</td>\n",
              "      <td>...</td>\n",
              "      <td>...</td>\n",
              "      <td>...</td>\n",
              "    </tr>\n",
              "    <tr>\n",
              "      <th>45966</th>\n",
              "      <td>USC00050848</td>\n",
              "      <td>2023-09-26</td>\n",
              "      <td>0.00</td>\n",
              "      <td>74.0</td>\n",
              "    </tr>\n",
              "    <tr>\n",
              "      <th>45967</th>\n",
              "      <td>USC00050848</td>\n",
              "      <td>2023-09-27</td>\n",
              "      <td>0.00</td>\n",
              "      <td>69.0</td>\n",
              "    </tr>\n",
              "    <tr>\n",
              "      <th>45968</th>\n",
              "      <td>USC00050848</td>\n",
              "      <td>2023-09-28</td>\n",
              "      <td>0.00</td>\n",
              "      <td>73.0</td>\n",
              "    </tr>\n",
              "    <tr>\n",
              "      <th>45969</th>\n",
              "      <td>USC00050848</td>\n",
              "      <td>2023-09-29</td>\n",
              "      <td>0.00</td>\n",
              "      <td>66.0</td>\n",
              "    </tr>\n",
              "    <tr>\n",
              "      <th>45970</th>\n",
              "      <td>USC00050848</td>\n",
              "      <td>2023-09-30</td>\n",
              "      <td>0.00</td>\n",
              "      <td>78.0</td>\n",
              "    </tr>\n",
              "  </tbody>\n",
              "</table>\n",
              "<p>45971 rows × 4 columns</p>\n",
              "</div>"
            ],
            "text/plain": [
              "           STATION        DATE  PRCP  TOBS\n",
              "0      USC00050848  1893-10-01  0.94   NaN\n",
              "1      USC00050848  1893-10-02  0.00   NaN\n",
              "2      USC00050848  1893-10-03  0.00   NaN\n",
              "3      USC00050848  1893-10-04  0.04   NaN\n",
              "4      USC00050848  1893-10-05  0.00   NaN\n",
              "...            ...         ...   ...   ...\n",
              "45966  USC00050848  2023-09-26  0.00  74.0\n",
              "45967  USC00050848  2023-09-27  0.00  69.0\n",
              "45968  USC00050848  2023-09-28  0.00  73.0\n",
              "45969  USC00050848  2023-09-29  0.00  66.0\n",
              "45970  USC00050848  2023-09-30  0.00  78.0\n",
              "\n",
              "[45971 rows x 4 columns]"
            ]
          },
          "execution_count": 12,
          "metadata": {},
          "output_type": "execute_result"
        }
      ],
      "source": [
        "# Import data into Python from NCEI API\n",
        "\n",
        "pd.read_csv(boulder_GHCN_data)"
      ]
    }
  ],
  "metadata": {
    "kernelspec": {
      "display_name": "Python 3 (ipykernel)",
      "language": "python",
      "name": "python3"
    },
    "language_info": {
      "codemirror_mode": {
        "name": "ipython",
        "version": 3
      },
      "file_extension": ".py",
      "mimetype": "text/x-python",
      "name": "python",
      "nbconvert_exporter": "python",
      "pygments_lexer": "ipython3",
      "version": "3.10.11"
    }
  },
  "nbformat": 4,
  "nbformat_minor": 5
}
